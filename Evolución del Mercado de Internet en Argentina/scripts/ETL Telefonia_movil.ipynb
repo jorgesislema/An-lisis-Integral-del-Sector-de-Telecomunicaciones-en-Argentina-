{
 "cells": [
  {
   "cell_type": "markdown",
   "metadata": {},
   "source": [
    "Cargamos el data set Telefonia_movil.xlsx para extraer las diferentes hojas que lo conforman y las trasformamos a formato .csv y las guardamos en la carpeta Telefonia_movil"
   ]
  },
  {
   "cell_type": "code",
   "execution_count": 6,
   "metadata": {},
   "outputs": [],
   "source": [
    "import pandas as pd\n",
    "import numpy as pn\n",
    "import os"
   ]
  },
  {
   "cell_type": "code",
   "execution_count": 27,
   "metadata": {},
   "outputs": [
    {
     "name": "stdout",
     "output_type": "stream",
     "text": [
      "La hoja de nombre'SMS a sido convertida a C:/Users/jrgsi/OneDrive/Escritorio/PROUECTOS HENRY/PROYECTO INDIVIDUAL DOS/datos/dataset .csv/Telefonia_movil/SMS.csv\n",
      "La hoja de nombre'Llamadas salientes a sido convertida a C:/Users/jrgsi/OneDrive/Escritorio/PROUECTOS HENRY/PROYECTO INDIVIDUAL DOS/datos/dataset .csv/Telefonia_movil/Llamadas salientes.csv\n",
      "La hoja de nombre'Minutos salientes a sido convertida a C:/Users/jrgsi/OneDrive/Escritorio/PROUECTOS HENRY/PROYECTO INDIVIDUAL DOS/datos/dataset .csv/Telefonia_movil/Minutos salientes.csv\n",
      "La hoja de nombre'Ingresos a sido convertida a C:/Users/jrgsi/OneDrive/Escritorio/PROUECTOS HENRY/PROYECTO INDIVIDUAL DOS/datos/dataset .csv/Telefonia_movil/Ingresos.csv\n",
      "La hoja de nombre'Penetracion a sido convertida a C:/Users/jrgsi/OneDrive/Escritorio/PROUECTOS HENRY/PROYECTO INDIVIDUAL DOS/datos/dataset .csv/Telefonia_movil/Penetracion.csv\n",
      "La hoja de nombre'Accesos a sido convertida a C:/Users/jrgsi/OneDrive/Escritorio/PROUECTOS HENRY/PROYECTO INDIVIDUAL DOS/datos/dataset .csv/Telefonia_movil/Accesos.csv\n",
      "La hoja de nombre'Hoja1 a sido convertida a C:/Users/jrgsi/OneDrive/Escritorio/PROUECTOS HENRY/PROYECTO INDIVIDUAL DOS/datos/dataset .csv/Telefonia_movil/Hoja1.csv\n"
     ]
    }
   ],
   "source": [
    "\n",
    "#Cargamos la ruta del data set Telefonia_movil.xlsx\n",
    "exel_file=r'C:/Users/jrgsi/OneDrive/Escritorio/PROUECTOS HENRY/PROYECTO INDIVIDUAL DOS/datos/dataset .xlsx/Telefonia_movil.xlsx'\n",
    "\n",
    "#Leemos todas las hoas del archivo Exel\n",
    "hojas= pd.read_excel(exel_file,sheet_name=None)\n",
    "\n",
    "#Comvertimos cada hoja a unarchivo csv.\n",
    "for nombre_hoja, datos_hoja in hojas.items():\n",
    "    nombre_csv= f'C:/Users/jrgsi/OneDrive/Escritorio/PROUECTOS HENRY/PROYECTO INDIVIDUAL DOS/datos/dataset .csv/Telefonia_movil/{nombre_hoja}.csv'  \n",
    "    datos_hoja.to_csv(nombre_csv,index=False)\n",
    "    print(f\"La hoja de nombre'{nombre_hoja} a sido convertida a {nombre_csv}\")"
   ]
  },
  {
   "cell_type": "markdown",
   "metadata": {},
   "source": [
    "ETL Accesos.csv"
   ]
  },
  {
   "cell_type": "markdown",
   "metadata": {},
   "source": [
    "Cargamos el data set ETL Accesos.csv y realizamos una exploración para ver datos faltantes ,su estructura y visualizar las primeras líneas"
   ]
  },
  {
   "cell_type": "code",
   "execution_count": null,
   "metadata": {},
   "outputs": [
    {
     "name": "stdout",
     "output_type": "stream",
     "text": [
      "Análisis para el archivo: C:/Users/jrgsi/OneDrive/Escritorio/PROUECTOS HENRY/PROYECTO INDIVIDUAL DOS/datos/dataset .csv/Telefonia_movil/Accesos.csv\n",
      "    Año  Trimestre  Total de accesos pospago  Total de accesos prepago  \\\n",
      "0  2013          1                 7761349.0                57147608.0   \n",
      "1  2013          2                 7769110.0                58004822.0   \n",
      "2  2013          3                 8002183.0                59048909.0   \n",
      "3  2013          4                 8674516.0                58894516.0   \n",
      "4  2014          1                 8224482.0                54725089.0   \n",
      "\n",
      "   Total de accesos operativos        Periodo  \n",
      "0                     64908957   Ene-Mar 2013  \n",
      "1                     65773932   Abr-Jun 2013  \n",
      "2                     67051092  Jul-Sept 2013  \n",
      "3                     67569032   Oct-Dic 2013  \n",
      "4                     62949571   Ene-Mar 2013  \n",
      "<class 'pandas.core.frame.DataFrame'>\n",
      "RangeIndex: 46 entries, 0 to 45\n",
      "Data columns (total 6 columns):\n",
      " #   Column                       Non-Null Count  Dtype  \n",
      "---  ------                       --------------  -----  \n",
      " 0   Año                          46 non-null     int64  \n",
      " 1   Trimestre                    46 non-null     int64  \n",
      " 2   Total de accesos pospago     46 non-null     float64\n",
      " 3   Total de accesos prepago     46 non-null     float64\n",
      " 4   Total de accesos operativos  46 non-null     int64  \n",
      " 5   Periodo                      46 non-null     object \n",
      "dtypes: float64(2), int64(3), object(1)\n",
      "memory usage: 2.3+ KB\n",
      "None\n",
      "               Año  Trimestre  Total de accesos pospago  \\\n",
      "count    46.000000  46.000000              4.600000e+01   \n",
      "mean   2018.260870   2.456522              7.072604e+06   \n",
      "std       3.362769   1.129533              9.036465e+05   \n",
      "min    2013.000000   1.000000              5.556299e+06   \n",
      "25%    2015.250000   1.250000              6.234936e+06   \n",
      "50%    2018.000000   2.000000              7.291355e+06   \n",
      "75%    2021.000000   3.000000              7.757819e+06   \n",
      "max    2024.000000   4.000000              8.674516e+06   \n",
      "\n",
      "       Total de accesos prepago  Total de accesos operativos  \n",
      "count              4.600000e+01                 4.600000e+01  \n",
      "mean               5.334950e+07                 6.042212e+07  \n",
      "std                2.345729e+06                 3.092477e+06  \n",
      "min                4.906016e+07                 5.461989e+07  \n",
      "25%                5.214300e+07                 5.866512e+07  \n",
      "50%                5.311688e+07                 6.065215e+07  \n",
      "75%                5.453195e+07                 6.258956e+07  \n",
      "max                5.904891e+07                 6.756903e+07  \n",
      "Dimensiones del dataframe: (46, 6)\n",
      "Valores nulos por columna\n",
      "Año                            0\n",
      "Trimestre                      0\n",
      "Total de accesos pospago       0\n",
      "Total de accesos prepago       0\n",
      "Total de accesos operativos    0\n",
      "Periodo                        0\n",
      "dtype: int64\n",
      "Porcentaje de valores faltantes por columna:\n",
      " Año                            0.0\n",
      "Trimestre                      0.0\n",
      "Total de accesos pospago       0.0\n",
      "Total de accesos prepago       0.0\n",
      "Total de accesos operativos    0.0\n",
      "Periodo                        0.0\n",
      "dtype: float64\n",
      "Número total de filas duplicadas: 0\n",
      "\n",
      "==================================================\n",
      "\n"
     ]
    }
   ],
   "source": [
    "# Cargamos el archivo \n",
    "archivo= r'C:/Users/jrgsi/OneDrive/Escritorio/PROUECTOS HENRY/PROYECTO INDIVIDUAL DOS/datos/dataset .csv/Telefonia_movil/Accesos.csv'\n",
    "print(f\"Análisis para el archivo: {archivo}\") \n",
    "\n",
    " # Realizamos el analisis  de el archivo\n",
    "print(df.head())         \n",
    "print(df.info())        \n",
    "print(df.describe())     \n",
    "print(f\"Dimensiones del dataframe: {df.shape}\")\n",
    "\n",
    "# Análisamos el porsentaje de valores nulos valores nulos\n",
    "print(\"Valores nulos por columna\")\n",
    "print(df.isnull().sum())\n",
    "\n",
    "# Contamos el valores faltantes\n",
    "missing_values = df.isnull().mean() * 100\n",
    "print(\"Porcentaje de valores faltantes por columna:\\n\", missing_values)\n",
    "\n",
    "# Contamos el número de filas duplicadas\n",
    "num_duplicates = df.duplicated(keep=False).sum()\n",
    "print(\"Número total de filas duplicadas:\", num_duplicates)\n",
    "print(\"\\n\" + \"=\"*50 + \"\\n\")  # Separador para cada archivo"
   ]
  },
  {
   "cell_type": "markdown",
   "metadata": {},
   "source": [
    "Cambiamos el formato de fecha para que sea un formato más compatible con Python uniendo la columna fecha con la columna trimestre y se borra la columna Periodo"
   ]
  },
  {
   "cell_type": "code",
   "execution_count": 29,
   "metadata": {},
   "outputs": [
    {
     "name": "stdout",
     "output_type": "stream",
     "text": [
      "       Fecha  Total de accesos pospago  Total de accesos prepago  \\\n",
      "0 2013-03-31                 7761349.0                57147608.0   \n",
      "1 2013-06-30                 7769110.0                58004822.0   \n",
      "2 2013-09-30                 8002183.0                59048909.0   \n",
      "3 2013-12-31                 8674516.0                58894516.0   \n",
      "4 2014-03-31                 8224482.0                54725089.0   \n",
      "\n",
      "   Total de accesos operativos        Periodo  \n",
      "0                     64908957   Ene-Mar 2013  \n",
      "1                     65773932   Abr-Jun 2013  \n",
      "2                     67051092  Jul-Sept 2013  \n",
      "3                     67569032   Oct-Dic 2013  \n",
      "4                     62949571   Ene-Mar 2013  \n"
     ]
    }
   ],
   "source": [
    "# Cargamos el archivo CSV\n",
    "archivo = r'C:/Users/jrgsi/OneDrive/Escritorio/PROUECTOS HENRY/PROYECTO INDIVIDUAL DOS/datos/dataset .csv/Telefonia_movil/Accesos.csv'\n",
    "df = pd.read_csv(archivo)\n",
    "\n",
    "# Mapeamos los trimestres al último día de cada trimestre\n",
    "trimestre_map = {1: \"03-31\", 2: \"06-30\", 3: \"09-30\", 4: \"12-31\"}\n",
    "\n",
    "# Convertimos 'Año' a cadena y mapear 'Trimestre' al último día del trimestre\n",
    "if 'Año' in df.columns and 'Trimestre' in df.columns:\n",
    "    df['Año'] = df['Año'].astype(str)\n",
    "    df['Trimestre'] = df['Trimestre'].map(trimestre_map)\n",
    "\n",
    "    # Creamos la columna 'Fecha' combinando 'Año' y 'Trimestre'\n",
    "    df['Fecha'] = pd.to_datetime(df['Año'] + \"-\" + df['Trimestre'])\n",
    "\n",
    "    # Borramos  las columnas 'Año' y 'Trimestre'\n",
    "    df.drop(columns=['Año', 'Trimestre'], inplace=True)\n",
    "\n",
    "    # Reordenamos las columnas \n",
    "    cols = ['Fecha'] + [col for col in df.columns if col != 'Fecha']\n",
    "    df = df[cols]\n",
    "else:\n",
    "    print(\"Error: Las columnas 'Año' y 'Trimestre' no se encontraron en los datos.\")\n",
    "        # Eliminamos la columna 'Periodo'\n",
    "    df.columns = df.columns.str.strip()\n",
    "    if 'Periodo' in df.columns:\n",
    "        df.drop(columns=['Periodo'], inplace=True)\n",
    "    # Guardamos el DataFrame final en un archivo CSV\n",
    "output_path = r'C:/Users/jrgsi/OneDrive/Escritorio/PROUECTOS HENRY/PROYECTO INDIVIDUAL DOS/datos/dataset .csv/Telefonia_movil/Accesos.csv'\n",
    "df.to_csv(output_path, index=False)\n",
    "\n",
    "print(df.head())"
   ]
  },
  {
   "cell_type": "markdown",
   "metadata": {},
   "source": [
    "ETL Hoja 1"
   ]
  },
  {
   "cell_type": "markdown",
   "metadata": {},
   "source": [
    "El documento no comtiene una hinformacion especifica es por ello que lo eliminamos"
   ]
  },
  {
   "cell_type": "code",
   "execution_count": 30,
   "metadata": {},
   "outputs": [],
   "source": [
    "\n",
    "\n",
    "os.remove('C:/Users/jrgsi/OneDrive/Escritorio/PROUECTOS HENRY/PROYECTO INDIVIDUAL DOS/datos/dataset .csv/Telefonia_movil/Hoja1.csv')  \n"
   ]
  },
  {
   "cell_type": "markdown",
   "metadata": {},
   "source": [
    "ETL Ingresos.csv"
   ]
  },
  {
   "cell_type": "markdown",
   "metadata": {},
   "source": [
    "Cargamos el data set Ingresos.csv y realizamos una exploración para ver datos faltantes ,su estructura y visualizar las primeras líneas"
   ]
  },
  {
   "cell_type": "code",
   "execution_count": null,
   "metadata": {},
   "outputs": [
    {
     "name": "stdout",
     "output_type": "stream",
     "text": [
      "Análisis para el archivo: C:/Users/jrgsi/OneDrive/Escritorio/PROUECTOS HENRY/PROYECTO INDIVIDUAL DOS/datos/dataset .csv/Telefonia_movil/Ingresos.csv\n",
      "    Año  Trimestre  Ingresos (miles de $)        Periodo\n",
      "0  2013          1               13135235   Ene-Mar 2013\n",
      "1  2013          2               13970806   Abr-Jun 2013\n",
      "2  2013          3               15235659  Jul-Sept 2013\n",
      "3  2013          4               16218846   Oct-Dic 2013\n",
      "4  2014          1               15938353   Ene-Mar 2013\n",
      "<class 'pandas.core.frame.DataFrame'>\n",
      "RangeIndex: 46 entries, 0 to 45\n",
      "Data columns (total 4 columns):\n",
      " #   Column                 Non-Null Count  Dtype \n",
      "---  ------                 --------------  ----- \n",
      " 0   Año                    46 non-null     int64 \n",
      " 1   Trimestre              46 non-null     int64 \n",
      " 2   Ingresos (miles de $)  46 non-null     int64 \n",
      " 3   Periodo                46 non-null     object\n",
      "dtypes: int64(3), object(1)\n",
      "memory usage: 1.6+ KB\n",
      "None\n",
      "               Año  Trimestre  Ingresos (miles de $)\n",
      "count    46.000000  46.000000           4.600000e+01\n",
      "mean   2018.260870   2.456522           1.224360e+08\n",
      "std       3.362769   1.129533           2.069793e+08\n",
      "min    2013.000000   1.000000           1.313524e+07\n",
      "25%    2015.250000   1.250000           2.479278e+07\n",
      "50%    2018.000000   2.000000           4.365345e+07\n",
      "75%    2021.000000   3.000000           1.145094e+08\n",
      "max    2024.000000   4.000000           1.108473e+09\n",
      "Dimensiones del dataframe: (46, 4)\n",
      "Valores nulos por columna\n",
      "Año                      0\n",
      "Trimestre                0\n",
      "Ingresos (miles de $)    0\n",
      "Periodo                  0\n",
      "dtype: int64\n",
      "Porcentaje de valores faltantes por columna:\n",
      " Año                      0.0\n",
      "Trimestre                0.0\n",
      "Ingresos (miles de $)    0.0\n",
      "Periodo                  0.0\n",
      "dtype: float64\n",
      "Número total de filas duplicadas: 0\n",
      "\n",
      "==================================================\n",
      "\n"
     ]
    }
   ],
   "source": [
    "# Cargamos el archivo \n",
    "archivo= r'C:/Users/jrgsi/OneDrive/Escritorio/PROUECTOS HENRY/PROYECTO INDIVIDUAL DOS/datos/dataset .csv/Telefonia_movil/Ingresos.csv'\n",
    "print(f\"Análisis para el archivo: {archivo}\") \n",
    "df = pd.read_csv(archivo)\n",
    "\n",
    " # Realizamos el analisis  de el archivo\n",
    "print(df.head())         \n",
    "print(df.info())        \n",
    "print(df.describe())     \n",
    "print(f\"Dimensiones del dataframe: {df.shape}\")\n",
    "\n",
    "# Análisamos el porsentaje de valores nulos valores nulos\n",
    "print(\"Valores nulos por columna\")\n",
    "print(df.isnull().sum())\n",
    "\n",
    "# Contamos el valores faltantes\n",
    "missing_values = df.isnull().mean() * 100\n",
    "print(\"Porcentaje de valores faltantes por columna:\\n\", missing_values)\n",
    "\n",
    "# Contamos el número de filas duplicadas\n",
    "num_duplicates = df.duplicated(keep=False).sum()\n",
    "print(\"Número total de filas duplicadas:\", num_duplicates)\n",
    "print(\"\\n\" + \"=\"*50 + \"\\n\")  # Separador para cada archivo"
   ]
  },
  {
   "cell_type": "markdown",
   "metadata": {},
   "source": [
    "Cambiamos el formato de fecha para que sea un formato más compatible con Python uniendo la columna fecha con la columna trimestre y eliminamos la columna Periodo"
   ]
  },
  {
   "cell_type": "code",
   "execution_count": 32,
   "metadata": {},
   "outputs": [
    {
     "name": "stdout",
     "output_type": "stream",
     "text": [
      "       Fecha  Ingresos (miles de $)\n",
      "0 2013-03-31               13135235\n",
      "1 2013-06-30               13970806\n",
      "2 2013-09-30               15235659\n",
      "3 2013-12-31               16218846\n",
      "4 2014-03-31               15938353\n"
     ]
    }
   ],
   "source": [
    "# Cargamos el archivo CSV\n",
    "archivo = r'C:/Users/jrgsi/OneDrive/Escritorio/PROUECTOS HENRY/PROYECTO INDIVIDUAL DOS/datos/dataset .csv/Telefonia_movil/Ingresos.csv'\n",
    "df = pd.read_csv(archivo)\n",
    "\n",
    "# Mapeamos los trimestres al último día de cada trimestre\n",
    "trimestre_map = {1: \"03-31\", 2: \"06-30\", 3: \"09-30\", 4: \"12-31\"}\n",
    "\n",
    "# Convertimos 'Año' a cadena y mapear 'Trimestre' al último día del trimestre\n",
    "if 'Año' in df.columns and 'Trimestre' in df.columns:\n",
    "    df['Año'] = df['Año'].astype(str)\n",
    "    df['Trimestre'] = df['Trimestre'].map(trimestre_map)\n",
    "\n",
    "    # Creamos la columna 'Fecha' combinando 'Año' y 'Trimestre'\n",
    "    df['Fecha'] = pd.to_datetime(df['Año'] + \"-\" + df['Trimestre'])\n",
    "\n",
    "    # Borramos  las columnas 'Año' y 'Trimestre'\n",
    "    df.drop(columns=['Año', 'Trimestre'], inplace=True)\n",
    "\n",
    "    # Reordenamos las columnas \n",
    "    cols = ['Fecha'] + [col for col in df.columns if col != 'Fecha']\n",
    "    df = df[cols]\n",
    "else:\n",
    "    print(\"Error: Las columnas 'Año' y 'Trimestre' no se encontraron en los datos.\")\n",
    "        # Eliminamos la columna 'Periodo'\n",
    "df.columns = df.columns.str.strip()\n",
    "if 'Periodo' in df.columns:\n",
    "    df.drop(columns=['Periodo'], inplace=True)\n",
    "\n",
    "    # Guardamos el DataFrame final en un archivo CSV\n",
    "output_path = r'C:/Users/jrgsi/OneDrive/Escritorio/PROUECTOS HENRY/PROYECTO INDIVIDUAL DOS/datos/dataset .csv/Telefonia_movil/Ingresos.csv'\n",
    "df.to_csv(output_path, index=False)\n",
    "\n",
    "print(df.head())"
   ]
  },
  {
   "cell_type": "markdown",
   "metadata": {},
   "source": [
    "ETL Llamadas salientes.csv"
   ]
  },
  {
   "cell_type": "markdown",
   "metadata": {},
   "source": [
    "Cargamos el data set Llamadas salientes.csv y realizamos una exploración para ver datos faltantes ,su estructura y visualizar las primeras líneas"
   ]
  },
  {
   "cell_type": "code",
   "execution_count": 33,
   "metadata": {},
   "outputs": [
    {
     "name": "stdout",
     "output_type": "stream",
     "text": [
      "Análisis para el archivo: C:/Users/jrgsi/OneDrive/Escritorio/PROUECTOS HENRY/PROYECTO INDIVIDUAL DOS/datos/dataset .csv/Telefonia_movil/Llamadas salientes.csv\n",
      "    Año  Trimestre  Llamadas pospago salientes (miles)  \\\n",
      "0  2013          1                           3796547.0   \n",
      "1  2013          2                           4156872.0   \n",
      "2  2013          3                           4466727.0   \n",
      "3  2013          4                           4743791.0   \n",
      "4  2014          1                           4001399.0   \n",
      "\n",
      "   Llamadas prepago salientes (miles)  Total de llamadas salientes (miles)  \\\n",
      "0                           3412766.0                            7209313.0   \n",
      "1                           3699387.0                            7856258.0   \n",
      "2                           3814925.0                            8281653.0   \n",
      "3                           3906876.0                            8650667.0   \n",
      "4                           3589181.0                            7590580.0   \n",
      "\n",
      "         Periodo  \n",
      "0   Ene-Mar 2013  \n",
      "1   Abr-Jun 2013  \n",
      "2  Jul-Sept 2013  \n",
      "3   Oct-Dic 2013  \n",
      "4   Ene-Mar 2013  \n",
      "<class 'pandas.core.frame.DataFrame'>\n",
      "RangeIndex: 46 entries, 0 to 45\n",
      "Data columns (total 6 columns):\n",
      " #   Column                               Non-Null Count  Dtype  \n",
      "---  ------                               --------------  -----  \n",
      " 0   Año                                  46 non-null     int64  \n",
      " 1   Trimestre                            46 non-null     int64  \n",
      " 2   Llamadas pospago salientes (miles)   46 non-null     float64\n",
      " 3   Llamadas prepago salientes (miles)   46 non-null     float64\n",
      " 4   Total de llamadas salientes (miles)  46 non-null     float64\n",
      " 5   Periodo                              46 non-null     object \n",
      "dtypes: float64(3), int64(2), object(1)\n",
      "memory usage: 2.3+ KB\n",
      "None\n",
      "               Año  Trimestre  Llamadas pospago salientes (miles)  \\\n",
      "count    46.000000  46.000000                        4.600000e+01   \n",
      "mean   2018.260870   2.456522                        4.461621e+06   \n",
      "std       3.362769   1.129533                        7.211924e+05   \n",
      "min    2013.000000   1.000000                        2.709620e+06   \n",
      "25%    2015.250000   1.250000                        4.113151e+06   \n",
      "50%    2018.000000   2.000000                        4.591479e+06   \n",
      "75%    2021.000000   3.000000                        4.982502e+06   \n",
      "max    2024.000000   4.000000                        5.977412e+06   \n",
      "\n",
      "       Llamadas prepago salientes (miles)  Total de llamadas salientes (miles)  \n",
      "count                        4.600000e+01                         4.600000e+01  \n",
      "mean                         2.636418e+06                         7.098040e+06  \n",
      "std                          1.223564e+06                         1.718836e+06  \n",
      "min                          1.023503e+06                         3.776648e+06  \n",
      "25%                          1.328665e+06                         5.566712e+06  \n",
      "50%                          2.635614e+06                         7.595851e+06  \n",
      "75%                          3.786040e+06                         8.306881e+06  \n",
      "max                          4.799840e+06                         9.815691e+06  \n",
      "Dimensiones del dataframe: (46, 6)\n",
      "Valores nulos por columna\n",
      "Año                                    0\n",
      "Trimestre                              0\n",
      "Llamadas pospago salientes (miles)     0\n",
      "Llamadas prepago salientes (miles)     0\n",
      "Total de llamadas salientes (miles)    0\n",
      "Periodo                                0\n",
      "dtype: int64\n",
      "Porcentaje de valores faltantes por columna:\n",
      " Año                                    0.0\n",
      "Trimestre                              0.0\n",
      "Llamadas pospago salientes (miles)     0.0\n",
      "Llamadas prepago salientes (miles)     0.0\n",
      "Total de llamadas salientes (miles)    0.0\n",
      "Periodo                                0.0\n",
      "dtype: float64\n",
      "Número total de filas duplicadas: 0\n",
      "\n",
      "==================================================\n",
      "\n"
     ]
    }
   ],
   "source": [
    "# Cargamos el archivo \n",
    "archivo= r'C:/Users/jrgsi/OneDrive/Escritorio/PROUECTOS HENRY/PROYECTO INDIVIDUAL DOS/datos/dataset .csv/Telefonia_movil/Llamadas salientes.csv'\n",
    "print(f\"Análisis para el archivo: {archivo}\")  # Muestra el nombre del archivo\n",
    "df = pd.read_csv(archivo)\n",
    "\n",
    " # Realizamos el analisis  de el archivo\n",
    "print(df.head())         \n",
    "print(df.info())        \n",
    "print(df.describe())     \n",
    "print(f\"Dimensiones del dataframe: {df.shape}\")\n",
    "\n",
    "# Análisamos el porsentaje de valores nulos valores nulos\n",
    "print(\"Valores nulos por columna\")\n",
    "print(df.isnull().sum())\n",
    "\n",
    "# Contamos el valores faltantes\n",
    "missing_values = df.isnull().mean() * 100\n",
    "print(\"Porcentaje de valores faltantes por columna:\\n\", missing_values)\n",
    "\n",
    "# Contamos el número de filas duplicadas\n",
    "num_duplicates = df.duplicated(keep=False).sum()\n",
    "print(\"Número total de filas duplicadas:\", num_duplicates)\n",
    "print(\"\\n\" + \"=\"*50 + \"\\n\")  # Separador para cada archivo"
   ]
  },
  {
   "cell_type": "markdown",
   "metadata": {},
   "source": [
    "Cambiamos el formato de fecha para que sea un formato más compatible con Python uniendo la columna fecha con la columna trimestre y eliminamos la columna Periodo"
   ]
  },
  {
   "cell_type": "code",
   "execution_count": 34,
   "metadata": {},
   "outputs": [
    {
     "name": "stdout",
     "output_type": "stream",
     "text": [
      "       Fecha  Llamadas pospago salientes (miles)  \\\n",
      "0 2013-03-31                           3796547.0   \n",
      "1 2013-06-30                           4156872.0   \n",
      "2 2013-09-30                           4466727.0   \n",
      "3 2013-12-31                           4743791.0   \n",
      "4 2014-03-31                           4001399.0   \n",
      "\n",
      "   Llamadas prepago salientes (miles)  Total de llamadas salientes (miles)  \n",
      "0                           3412766.0                            7209313.0  \n",
      "1                           3699387.0                            7856258.0  \n",
      "2                           3814925.0                            8281653.0  \n",
      "3                           3906876.0                            8650667.0  \n",
      "4                           3589181.0                            7590580.0  \n"
     ]
    }
   ],
   "source": [
    "# Cargamos el archivo CSV\n",
    "archivo = r'C:/Users/jrgsi/OneDrive/Escritorio/PROUECTOS HENRY/PROYECTO INDIVIDUAL DOS/datos/dataset .csv/Telefonia_movil/Llamadas salientes.csv'\n",
    "df = pd.read_csv(archivo)\n",
    "\n",
    "# Mapeamos los trimestres al último día de cada trimestre\n",
    "trimestre_map = {1: \"03-31\", 2: \"06-30\", 3: \"09-30\", 4: \"12-31\"}\n",
    "\n",
    "# Convertimos 'Año' a cadena y mapear 'Trimestre' al último día del trimestre\n",
    "if 'Año' in df.columns and 'Trimestre' in df.columns:\n",
    "    df['Año'] = df['Año'].astype(str)\n",
    "    df['Trimestre'] = df['Trimestre'].map(trimestre_map)\n",
    "\n",
    "    # Creamos la columna 'Fecha' combinando 'Año' y 'Trimestre'\n",
    "    df['Fecha'] = pd.to_datetime(df['Año'] + \"-\" + df['Trimestre'])\n",
    "\n",
    "    # Borramos  las columnas 'Año' y 'Trimestre'\n",
    "    df.drop(columns=['Año', 'Trimestre'], inplace=True)\n",
    "\n",
    "    # Reordenamos las columnas \n",
    "    cols = ['Fecha'] + [col for col in df.columns if col != 'Fecha']\n",
    "    df = df[cols]\n",
    "else:\n",
    "    print(\"Error: Las columnas 'Año' y 'Trimestre' no se encontraron en los datos.\")\n",
    "        # Eliminamos la columna 'Periodo'\n",
    "df.columns = df.columns.str.strip()\n",
    "if 'Periodo' in df.columns:\n",
    "    df.drop(columns=['Periodo'], inplace=True)\n",
    "\n",
    "    # Guardamos el DataFrame final en un archivo CSV\n",
    "output_path = r'C:/Users/jrgsi/OneDrive/Escritorio/PROUECTOS HENRY/PROYECTO INDIVIDUAL DOS/datos/dataset .csv/Telefonia_movil/Llamadas salientes.csv'\n",
    "df.to_csv(output_path, index=False)\n",
    "\n",
    "print(df.head())"
   ]
  },
  {
   "cell_type": "markdown",
   "metadata": {},
   "source": [
    "ETL Minutos salientes.csv"
   ]
  },
  {
   "cell_type": "markdown",
   "metadata": {},
   "source": [
    "Cargamos el data set Minutos salientes.csv y realizamos una exploración para ver datos faltantes ,su estructura y visualizar las primeras líneas"
   ]
  },
  {
   "cell_type": "code",
   "execution_count": null,
   "metadata": {},
   "outputs": [
    {
     "name": "stdout",
     "output_type": "stream",
     "text": [
      "Análisis para el archivo: C:/Users/jrgsi/OneDrive/Escritorio/PROUECTOS HENRY/PROYECTO INDIVIDUAL DOS/datos/dataset .csv/Telefonia_movil/Minutos salientes.csv\n",
      "    Año  Trimestre  Minutos pospago salientes (miles)  \\\n",
      "0  2013          1                          8785943.0   \n",
      "1  2013          2                          9512689.0   \n",
      "2  2013          3                         10315484.0   \n",
      "3  2013          4                          9809515.0   \n",
      "4  2014          1                         10128751.0   \n",
      "\n",
      "   Minutos prepago salientes (miles)  Total de minutos salientes (miles)  \\\n",
      "0                          6582117.0                          15368060.0   \n",
      "1                          7108640.0                          16621329.0   \n",
      "2                          7335154.0                          17650638.0   \n",
      "3                          6250549.0                          16060064.0   \n",
      "4                          5799223.0                          15927974.0   \n",
      "\n",
      "         Periodo  \n",
      "0   Ene-Mar 2013  \n",
      "1   Abr-Jun 2013  \n",
      "2  Jul-Sept 2013  \n",
      "3   Oct-Dic 2013  \n",
      "4   Ene-Mar 2013  \n",
      "<class 'pandas.core.frame.DataFrame'>\n",
      "RangeIndex: 46 entries, 0 to 45\n",
      "Data columns (total 6 columns):\n",
      " #   Column                              Non-Null Count  Dtype  \n",
      "---  ------                              --------------  -----  \n",
      " 0   Año                                 46 non-null     int64  \n",
      " 1   Trimestre                           46 non-null     int64  \n",
      " 2   Minutos pospago salientes (miles)   46 non-null     float64\n",
      " 3   Minutos prepago salientes (miles)   46 non-null     float64\n",
      " 4   Total de minutos salientes (miles)  46 non-null     float64\n",
      " 5   Periodo                             46 non-null     object \n",
      "dtypes: float64(3), int64(2), object(1)\n",
      "memory usage: 2.3+ KB\n",
      "None\n",
      "               Año  Trimestre  Minutos pospago salientes (miles)  \\\n",
      "count    46.000000  46.000000                       4.600000e+01   \n",
      "mean   2018.260870   2.456522                       1.234935e+07   \n",
      "std       3.362769   1.129533                       1.895138e+06   \n",
      "min    2013.000000   1.000000                       8.785943e+06   \n",
      "25%    2015.250000   1.250000                       1.086134e+07   \n",
      "50%    2018.000000   2.000000                       1.218012e+07   \n",
      "75%    2021.000000   3.000000                       1.395703e+07   \n",
      "max    2024.000000   4.000000                       1.596076e+07   \n",
      "\n",
      "       Minutos prepago salientes (miles)  Total de minutos salientes (miles)  \n",
      "count                       4.600000e+01                        4.600000e+01  \n",
      "mean                        5.768076e+06                        1.812717e+07  \n",
      "std                         1.239654e+06                        2.478643e+06  \n",
      "min                         3.469826e+06                        1.243271e+07  \n",
      "25%                         5.395623e+06                        1.626629e+07  \n",
      "50%                         6.178376e+06                        1.852735e+07  \n",
      "75%                         6.605793e+06                        2.018278e+07  \n",
      "max                         7.335154e+06                        2.289966e+07  \n",
      "Dimensiones del dataframe: (46, 6)\n",
      "Valores nulos por columna\n",
      "Año                                   0\n",
      "Trimestre                             0\n",
      "Minutos pospago salientes (miles)     0\n",
      "Minutos prepago salientes (miles)     0\n",
      "Total de minutos salientes (miles)    0\n",
      "Periodo                               0\n",
      "dtype: int64\n",
      "Porcentaje de valores faltantes por columna:\n",
      " Año                                   0.0\n",
      "Trimestre                             0.0\n",
      "Minutos pospago salientes (miles)     0.0\n",
      "Minutos prepago salientes (miles)     0.0\n",
      "Total de minutos salientes (miles)    0.0\n",
      "Periodo                               0.0\n",
      "dtype: float64\n",
      "Número total de filas duplicadas: 0\n",
      "\n",
      "==================================================\n",
      "\n"
     ]
    }
   ],
   "source": [
    "# Cargamos el archivo \n",
    "archivo= r'C:/Users/jrgsi/OneDrive/Escritorio/PROUECTOS HENRY/PROYECTO INDIVIDUAL DOS/datos/dataset .csv/Telefonia_movil/Minutos salientes.csv'\n",
    "print(f\"Análisis para el archivo: {archivo}\")  \n",
    "df = pd.read_csv(archivo)\n",
    "\n",
    " # Realizamos el analisis  de el archivo\n",
    "print(df.head())         \n",
    "print(df.info())        \n",
    "print(df.describe())     \n",
    "print(f\"Dimensiones del dataframe: {df.shape}\")\n",
    "\n",
    "# Análisamos el porsentaje de valores nulos valores nulos\n",
    "print(\"Valores nulos por columna\")\n",
    "print(df.isnull().sum())\n",
    "\n",
    "# Contamos el valores faltantes\n",
    "missing_values = df.isnull().mean() * 100\n",
    "print(\"Porcentaje de valores faltantes por columna:\\n\", missing_values)\n",
    "\n",
    "# Contamos el número de filas duplicadas\n",
    "num_duplicates = df.duplicated(keep=False).sum()\n",
    "print(\"Número total de filas duplicadas:\", num_duplicates)\n",
    "print(\"\\n\" + \"=\"*50 + \"\\n\")  # Separador para cada archivo"
   ]
  },
  {
   "cell_type": "markdown",
   "metadata": {},
   "source": [
    "Cambiamos el formato de fecha para que sea un formato más compatible con Python uniendo la columna fecha con la columna trimestre y eliminamos la columna Periodo"
   ]
  },
  {
   "cell_type": "code",
   "execution_count": 36,
   "metadata": {},
   "outputs": [
    {
     "name": "stdout",
     "output_type": "stream",
     "text": [
      "       Fecha  Minutos pospago salientes (miles)  \\\n",
      "0 2013-03-31                          8785943.0   \n",
      "1 2013-06-30                          9512689.0   \n",
      "2 2013-09-30                         10315484.0   \n",
      "3 2013-12-31                          9809515.0   \n",
      "4 2014-03-31                         10128751.0   \n",
      "\n",
      "   Minutos prepago salientes (miles)  Total de minutos salientes (miles)  \n",
      "0                          6582117.0                          15368060.0  \n",
      "1                          7108640.0                          16621329.0  \n",
      "2                          7335154.0                          17650638.0  \n",
      "3                          6250549.0                          16060064.0  \n",
      "4                          5799223.0                          15927974.0  \n"
     ]
    }
   ],
   "source": [
    "# Cargamos el archivo CSV\n",
    "archivo = r'C:/Users/jrgsi/OneDrive/Escritorio/PROUECTOS HENRY/PROYECTO INDIVIDUAL DOS/datos/dataset .csv/Telefonia_movil/Minutos salientes.csv'\n",
    "df = pd.read_csv(archivo)\n",
    "\n",
    "# Mapeamos los trimestres al último día de cada trimestre\n",
    "trimestre_map = {1: \"03-31\", 2: \"06-30\", 3: \"09-30\", 4: \"12-31\"}\n",
    "\n",
    "# Convertimos 'Año' a cadena y mapear 'Trimestre' al último día del trimestre\n",
    "if 'Año' in df.columns and 'Trimestre' in df.columns:\n",
    "    df['Año'] = df['Año'].astype(str)\n",
    "    df['Trimestre'] = df['Trimestre'].map(trimestre_map)\n",
    "\n",
    "    # Creamos la columna 'Fecha' combinando 'Año' y 'Trimestre'\n",
    "    df['Fecha'] = pd.to_datetime(df['Año'] + \"-\" + df['Trimestre'])\n",
    "\n",
    "    # Borramos  las columnas 'Año' y 'Trimestre'\n",
    "    df.drop(columns=['Año', 'Trimestre'], inplace=True)\n",
    "\n",
    "    # Reordenamos las columnas \n",
    "    cols = ['Fecha'] + [col for col in df.columns if col != 'Fecha']\n",
    "    df = df[cols]\n",
    "else:\n",
    "    print(\"Error: Las columnas 'Año' y 'Trimestre' no se encontraron en los datos.\")\n",
    "        # Eliminamos la columna 'Periodo'\n",
    "df.columns = df.columns.str.strip()\n",
    "if 'Periodo' in df.columns:\n",
    "    df.drop(columns=['Periodo'], inplace=True)\n",
    "\n",
    "    # Guardamos el DataFrame final en un archivo CSV\n",
    "output_path = r'C:/Users/jrgsi/OneDrive/Escritorio/PROUECTOS HENRY/PROYECTO INDIVIDUAL DOS/datos/dataset .csv/Telefonia_movil/Minutos salientes.csv'\n",
    "df.to_csv(output_path, index=False)\n",
    "\n",
    "print(df.head())"
   ]
  },
  {
   "cell_type": "markdown",
   "metadata": {},
   "source": [
    "ETL Minutos Penetracion.csv"
   ]
  },
  {
   "cell_type": "markdown",
   "metadata": {},
   "source": [
    "Cargamos el data set ETL Penetracion.csv y realizamos una exploración para ver datos faltantes ,su estructura y visualizar las primeras líneas"
   ]
  },
  {
   "cell_type": "code",
   "execution_count": null,
   "metadata": {},
   "outputs": [
    {
     "name": "stdout",
     "output_type": "stream",
     "text": [
      "Análisis para el archivo: C:/Users/jrgsi/OneDrive/Escritorio/PROUECTOS HENRY/PROYECTO INDIVIDUAL DOS/datos/dataset .csv/Telefonia_movil/Penetracion.csv\n",
      "    Año  Trimestre  Accesos por cada 100 hab        Periodo\n",
      "0  2013          1                    154.37   Ene-Mar 2013\n",
      "1  2013          2                    156.00   Abr-Jun 2013\n",
      "2  2013          3                    158.59  Jul-Sept 2013\n",
      "3  2013          4                    159.37   Oct-Dic 2013\n",
      "4  2014          1                    148.07   Ene-Mar 2014\n",
      "<class 'pandas.core.frame.DataFrame'>\n",
      "RangeIndex: 46 entries, 0 to 45\n",
      "Data columns (total 4 columns):\n",
      " #   Column                    Non-Null Count  Dtype  \n",
      "---  ------                    --------------  -----  \n",
      " 0   Año                       46 non-null     int64  \n",
      " 1   Trimestre                 46 non-null     int64  \n",
      " 2   Accesos por cada 100 hab  46 non-null     float64\n",
      " 3   Periodo                   46 non-null     object \n",
      "dtypes: float64(1), int64(2), object(1)\n",
      "memory usage: 1.6+ KB\n",
      "None\n",
      "               Año  Trimestre  Accesos por cada 100 hab\n",
      "count    46.000000  46.000000                 46.000000\n",
      "mean   2018.260870   2.456522                135.901926\n",
      "std       3.362769   1.129533                 10.032485\n",
      "min    2013.000000   1.000000                120.180000\n",
      "25%    2015.250000   1.250000                128.492500\n",
      "50%    2018.000000   2.000000                133.838767\n",
      "75%    2021.000000   3.000000                142.722500\n",
      "max    2024.000000   4.000000                159.370000\n",
      "Dimensiones del dataframe: (46, 4)\n",
      "Valores nulos por columna\n",
      "Año                         0\n",
      "Trimestre                   0\n",
      "Accesos por cada 100 hab    0\n",
      "Periodo                     0\n",
      "dtype: int64\n",
      "Porcentaje de valores faltantes por columna:\n",
      " Año                         0.0\n",
      "Trimestre                   0.0\n",
      "Accesos por cada 100 hab    0.0\n",
      "Periodo                     0.0\n",
      "dtype: float64\n",
      "Número total de filas duplicadas: 0\n",
      "\n",
      "==================================================\n",
      "\n"
     ]
    }
   ],
   "source": [
    "# Cargamos el archivo \n",
    "archivo= r'C:/Users/jrgsi/OneDrive/Escritorio/PROUECTOS HENRY/PROYECTO INDIVIDUAL DOS/datos/dataset .csv/Telefonia_movil/Penetracion.csv'\n",
    "print(f\"Análisis para el archivo: {archivo}\") \n",
    "df = pd.read_csv(archivo)\n",
    "\n",
    " # Realizamos el analisis  de el archivo\n",
    "print(df.head())         \n",
    "print(df.info())        \n",
    "print(df.describe())     \n",
    "print(f\"Dimensiones del dataframe: {df.shape}\")\n",
    "\n",
    "# Análisamos el porsentaje de valores nulos valores nulos\n",
    "print(\"Valores nulos por columna\")\n",
    "print(df.isnull().sum())\n",
    "\n",
    "# Contamos el valores faltantes\n",
    "missing_values = df.isnull().mean() * 100\n",
    "print(\"Porcentaje de valores faltantes por columna:\\n\", missing_values)\n",
    "\n",
    "# Contamos el número de filas duplicadas\n",
    "num_duplicates = df.duplicated(keep=False).sum()\n",
    "print(\"Número total de filas duplicadas:\", num_duplicates)\n",
    "print(\"\\n\" + \"=\"*50 + \"\\n\")  # Separador para cada archivo"
   ]
  },
  {
   "cell_type": "markdown",
   "metadata": {},
   "source": [
    "Cambiamos el formato de fecha para que sea un formato más compatible con Python uniendo la columna fecha con la columna trimestre y se borra la carpeta Periodo"
   ]
  },
  {
   "cell_type": "code",
   "execution_count": 38,
   "metadata": {},
   "outputs": [
    {
     "name": "stdout",
     "output_type": "stream",
     "text": [
      "       Fecha  Accesos por cada 100 hab\n",
      "0 2013-03-31                    154.37\n",
      "1 2013-06-30                    156.00\n",
      "2 2013-09-30                    158.59\n",
      "3 2013-12-31                    159.37\n",
      "4 2014-03-31                    148.07\n"
     ]
    }
   ],
   "source": [
    "# Cargamos el archivo CSV\n",
    "archivo = r'C:/Users/jrgsi/OneDrive/Escritorio/PROUECTOS HENRY/PROYECTO INDIVIDUAL DOS/datos/dataset .csv/Telefonia_movil/Penetracion.csv'\n",
    "df = pd.read_csv(archivo)\n",
    "\n",
    "# Mapeamos los trimestres al último día de cada trimestre\n",
    "trimestre_map = {1: \"03-31\", 2: \"06-30\", 3: \"09-30\", 4: \"12-31\"}\n",
    "\n",
    "# Convertimos 'Año' a cadena y mapear 'Trimestre' al último día del trimestre\n",
    "if 'Año' in df.columns and 'Trimestre' in df.columns:\n",
    "    df['Año'] = df['Año'].astype(str)\n",
    "    df['Trimestre'] = df['Trimestre'].map(trimestre_map)\n",
    "\n",
    "    # Creamos la columna 'Fecha' combinando 'Año' y 'Trimestre'\n",
    "    df['Fecha'] = pd.to_datetime(df['Año'] + \"-\" + df['Trimestre'])\n",
    "\n",
    "    # Borramos  las columnas 'Año' y 'Trimestre'\n",
    "    df.drop(columns=['Año', 'Trimestre'], inplace=True)\n",
    "\n",
    "    # Reordenamos las columnas \n",
    "    cols = ['Fecha'] + [col for col in df.columns if col != 'Fecha']\n",
    "    df = df[cols]\n",
    "else:\n",
    "    print(\"Error: Las columnas 'Año' y 'Trimestre' no se encontraron en los datos.\")\n",
    "\n",
    "df.columns = df.columns.str.strip()\n",
    "if 'Periodo' in df.columns:\n",
    "    df.drop(columns=['Periodo'], inplace=True)\n",
    "\n",
    "# Guardamos el DataFrame final en un archivo CSV\n",
    "output_path = r'C:/Users/jrgsi/OneDrive/Escritorio/PROUECTOS HENRY/PROYECTO INDIVIDUAL DOS/datos/dataset .csv/Telefonia_movil/Penetracion.csv'\n",
    "df.to_csv(output_path, index=False)\n",
    "\n",
    "print(df.head())"
   ]
  },
  {
   "cell_type": "markdown",
   "metadata": {},
   "source": [
    "ETL SMS.csv"
   ]
  },
  {
   "cell_type": "markdown",
   "metadata": {},
   "source": [
    "El archivo SMS.csv no comtiene informacion relevante para el estudio de internet por eso lo borramos"
   ]
  },
  {
   "cell_type": "code",
   "execution_count": 39,
   "metadata": {},
   "outputs": [],
   "source": [
    "os.remove(r'C:/Users/jrgsi/OneDrive/Escritorio/PROUECTOS HENRY/PROYECTO INDIVIDUAL DOS/datos/dataset .csv/Telefonia_movil/SMS.csv')"
   ]
  }
 ],
 "metadata": {
  "kernelspec": {
   "display_name": "venv",
   "language": "python",
   "name": "python3"
  },
  "language_info": {
   "codemirror_mode": {
    "name": "ipython",
    "version": 3
   },
   "file_extension": ".py",
   "mimetype": "text/x-python",
   "name": "python",
   "nbconvert_exporter": "python",
   "pygments_lexer": "ipython3",
   "version": "3.12.3"
  }
 },
 "nbformat": 4,
 "nbformat_minor": 2
}
